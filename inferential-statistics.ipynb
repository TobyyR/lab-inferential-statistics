{
 "cells": [
  {
   "cell_type": "markdown",
   "metadata": {},
   "source": [
    "## Hypothesis Test for Mean Systolic Blood Pressure\n",
    "\n",
    "### Problem Statement\n",
    "It is assumed that the mean systolic blood pressure is μ = 120 mm Hg. In the Honolulu Heart Study, a sample of n = 100 people had an average systolic blood pressure of 130.1 mm Hg with a standard deviation of 21.21 mm Hg. We need to determine if this group is significantly different from the regular population with respect to systolic blood pressure.\n",
    "\n",
    "### Steps to Set Up the Hypothesis Test\n",
    "\n",
    "1. **Define the null and alternative hypotheses:**\n",
    "   - Null hypothesis (\\(H_0\\)): The mean systolic blood pressure of the sample is equal to the population mean.\n",
    "     \\[\n",
    "     H_0: \\mu = 120 \\text{ mm Hg}\n",
    "     \\]\n",
    "   - Alternative hypothesis (\\(H_1\\)): The mean systolic blood pressure of the sample is not equal to the population mean.\n",
    "     \\[\n",
    "     H_1: \\mu \\neq 120 \\text{ mm Hg}\n",
    "     \\]\n",
    "\n",
    "2. **Select the significance level (\\(\\alpha\\)):**\n",
    "   - Typically, a significance level of 0.05 is used.\n",
    "\n",
    "3. **Calculate the test statistic:**\n",
    "   - The test statistic for a sample mean is calculated using the formula:\n",
    "     \\[\n",
    "     t = \\frac{\\bar{x} - \\mu}{s / \\sqrt{n}}\n",
    "     \\]\n",
    "     where:\n",
    "     - \\(\\bar{x}\\) is the sample mean\n",
    "     - \\(\\mu\\) is the population mean\n",
    "     - \\(s\\) is the sample standard deviation\n",
    "     - \\(n\\) is the sample size\n",
    "\n",
    "### Calculation by Hand\n",
    "\n",
    "Given:\n",
    "- \\(\\bar{x} = 130.1\\)\n",
    "- \\(\\mu = 120\\)\n",
    "- \\(s = 21.21\\)\n",
    "- \\(n = 100\\)\n",
    "\n",
    "The test statistic \\(t\\) is calculated as follows:\n",
    "\n",
    "\\[\n",
    "t = \\frac{130.1 - 120}{21.21 / \\sqrt{100}}\n",
    "\\]\n",
    "\n",
    "\\[\n",
    "t = \\frac{130.1 - 120}{21.21 / 10}\n",
    "\\]\n",
    "\n",
    "\\[\n",
    "t = \\frac{10.1}{2.121}\n",
    "\\]\n",
    "\n",
    "\\[\n",
    "t \\approx 4.7619\n",
    "\\]"
   ]
  },
  {
   "cell_type": "code",
   "execution_count": 1,
   "metadata": {},
   "outputs": [
    {
     "data": {
      "text/plain": [
       "4.761904761904759"
      ]
     },
     "execution_count": 1,
     "metadata": {},
     "output_type": "execute_result"
    }
   ],
   "source": [
    "import math\n",
    "\n",
    "# Given values\n",
    "sample_mean = 130.1\n",
    "population_mean = 120\n",
    "sample_std_dev = 21.21\n",
    "sample_size = 100\n",
    "\n",
    "# Calculate the test statistic\n",
    "t_statistic = (sample_mean - population_mean) / (sample_std_dev / math.sqrt(sample_size))\n",
    "t_statistic"
   ]
  }
 ],
 "metadata": {
  "kernelspec": {
   "display_name": "base",
   "language": "python",
   "name": "python3"
  },
  "language_info": {
   "codemirror_mode": {
    "name": "ipython",
    "version": 3
   },
   "file_extension": ".py",
   "mimetype": "text/x-python",
   "name": "python",
   "nbconvert_exporter": "python",
   "pygments_lexer": "ipython3",
   "version": "3.11.5"
  }
 },
 "nbformat": 4,
 "nbformat_minor": 2
}
